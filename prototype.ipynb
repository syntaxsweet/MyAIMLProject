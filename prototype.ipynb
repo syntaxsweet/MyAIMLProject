{
 "cells": [
  {
   "cell_type": "code",
   "execution_count": 3,
   "id": "1b4b3a87",
   "metadata": {},
   "outputs": [
    {
     "name": "stdout",
     "output_type": "stream",
     "text": [
      "Collecting sounddevice\n",
      "  Downloading sounddevice-0.5.2-py3-none-win_amd64.whl.metadata (1.6 kB)\n",
      "Requirement already satisfied: CFFI>=1.0 in c:\\users\\simar kaur\\anaconda3\\lib\\site-packages (from sounddevice) (1.17.1)\n",
      "Requirement already satisfied: pycparser in c:\\users\\simar kaur\\anaconda3\\lib\\site-packages (from CFFI>=1.0->sounddevice) (2.21)\n",
      "Downloading sounddevice-0.5.2-py3-none-win_amd64.whl (363 kB)\n",
      "Installing collected packages: sounddevice\n",
      "Successfully installed sounddevice-0.5.2\n",
      "Requirement already satisfied: sounddevice in c:\\users\\simar kaur\\anaconda3\\lib\\site-packages (0.5.2)\n",
      "Requirement already satisfied: CFFI>=1.0 in c:\\users\\simar kaur\\anaconda3\\lib\\site-packages (from sounddevice) (1.17.1)\n",
      "Requirement already satisfied: pycparser in c:\\users\\simar kaur\\anaconda3\\lib\\site-packages (from CFFI>=1.0->sounddevice) (2.21)\n",
      "Recording...\n",
      "Recording saved as input.wav\n"
     ]
    }
   ],
   "source": [
    "!pip install sounddevice\n",
    "!pip install sounddevice\n",
    "\n",
    "\n",
    "import sounddevice as sd\n",
    "from scipy.io.wavfile import write\n",
    "\n",
    "fs = 44100  # Sample rate\n",
    "seconds = 10  # Duration\n",
    "\n",
    "print(\"Recording...\")\n",
    "recording = sd.rec(int(seconds * fs), samplerate=fs, channels=2)\n",
    "sd.wait()\n",
    "write(\"input.wav\", fs, recording)\n",
    "print(\"Recording saved as input.wav\")"
   ]
  },
  {
   "cell_type": "code",
   "execution_count": 1,
   "id": "4f9f9b6b",
   "metadata": {},
   "outputs": [
    {
     "name": "stdout",
     "output_type": "stream",
     "text": [
      "Collecting git+https://github.com/openai/whisper.git\n",
      "  Cloning https://github.com/openai/whisper.git to c:\\users\\simar kaur\\appdata\\local\\temp\\pip-req-build-b3a448va\n",
      "  Resolved https://github.com/openai/whisper.git to commit c0d2f624c09dc18e709e37c2ad90c039a4eb72a2\n",
      "  Installing build dependencies: started\n",
      "  Installing build dependencies: finished with status 'done'\n",
      "  Getting requirements to build wheel: started\n",
      "  Getting requirements to build wheel: finished with status 'done'\n",
      "  Preparing metadata (pyproject.toml): started\n",
      "  Preparing metadata (pyproject.toml): finished with status 'done'\n",
      "Requirement already satisfied: more-itertools in c:\\users\\simar kaur\\anaconda3\\lib\\site-packages (from openai-whisper==20250625) (10.3.0)\n",
      "Requirement already satisfied: numba in c:\\users\\simar kaur\\anaconda3\\lib\\site-packages (from openai-whisper==20250625) (0.60.0)\n",
      "Requirement already satisfied: numpy in c:\\users\\simar kaur\\anaconda3\\lib\\site-packages (from openai-whisper==20250625) (1.26.4)\n",
      "Collecting tiktoken (from openai-whisper==20250625)\n",
      "  Downloading tiktoken-0.9.0-cp312-cp312-win_amd64.whl.metadata (6.8 kB)\n",
      "Collecting torch (from openai-whisper==20250625)\n",
      "  Downloading torch-2.7.1-cp312-cp312-win_amd64.whl.metadata (28 kB)\n",
      "Requirement already satisfied: tqdm in c:\\users\\simar kaur\\anaconda3\\lib\\site-packages (from openai-whisper==20250625) (4.66.5)\n",
      "Requirement already satisfied: llvmlite<0.44,>=0.43.0dev0 in c:\\users\\simar kaur\\anaconda3\\lib\\site-packages (from numba->openai-whisper==20250625) (0.43.0)\n",
      "Requirement already satisfied: regex>=2022.1.18 in c:\\users\\simar kaur\\anaconda3\\lib\\site-packages (from tiktoken->openai-whisper==20250625) (2024.9.11)\n",
      "Requirement already satisfied: requests>=2.26.0 in c:\\users\\simar kaur\\anaconda3\\lib\\site-packages (from tiktoken->openai-whisper==20250625) (2.32.3)\n",
      "Requirement already satisfied: filelock in c:\\users\\simar kaur\\anaconda3\\lib\\site-packages (from torch->openai-whisper==20250625) (3.13.1)\n",
      "Requirement already satisfied: typing-extensions>=4.10.0 in c:\\users\\simar kaur\\anaconda3\\lib\\site-packages (from torch->openai-whisper==20250625) (4.11.0)\n",
      "Collecting sympy>=1.13.3 (from torch->openai-whisper==20250625)\n",
      "  Downloading sympy-1.14.0-py3-none-any.whl.metadata (12 kB)\n",
      "Requirement already satisfied: networkx in c:\\users\\simar kaur\\anaconda3\\lib\\site-packages (from torch->openai-whisper==20250625) (3.3)\n",
      "Requirement already satisfied: jinja2 in c:\\users\\simar kaur\\anaconda3\\lib\\site-packages (from torch->openai-whisper==20250625) (3.1.4)\n",
      "Requirement already satisfied: fsspec in c:\\users\\simar kaur\\anaconda3\\lib\\site-packages (from torch->openai-whisper==20250625) (2024.6.1)\n",
      "Requirement already satisfied: setuptools in c:\\users\\simar kaur\\anaconda3\\lib\\site-packages (from torch->openai-whisper==20250625) (75.1.0)\n",
      "Requirement already satisfied: colorama in c:\\users\\simar kaur\\anaconda3\\lib\\site-packages (from tqdm->openai-whisper==20250625) (0.4.6)\n",
      "Requirement already satisfied: charset-normalizer<4,>=2 in c:\\users\\simar kaur\\anaconda3\\lib\\site-packages (from requests>=2.26.0->tiktoken->openai-whisper==20250625) (3.3.2)\n",
      "Requirement already satisfied: idna<4,>=2.5 in c:\\users\\simar kaur\\anaconda3\\lib\\site-packages (from requests>=2.26.0->tiktoken->openai-whisper==20250625) (3.7)\n",
      "Requirement already satisfied: urllib3<3,>=1.21.1 in c:\\users\\simar kaur\\anaconda3\\lib\\site-packages (from requests>=2.26.0->tiktoken->openai-whisper==20250625) (2.2.3)\n",
      "Requirement already satisfied: certifi>=2017.4.17 in c:\\users\\simar kaur\\anaconda3\\lib\\site-packages (from requests>=2.26.0->tiktoken->openai-whisper==20250625) (2024.8.30)\n",
      "Requirement already satisfied: mpmath<1.4,>=1.1.0 in c:\\users\\simar kaur\\anaconda3\\lib\\site-packages (from sympy>=1.13.3->torch->openai-whisper==20250625) (1.3.0)\n",
      "Requirement already satisfied: MarkupSafe>=2.0 in c:\\users\\simar kaur\\anaconda3\\lib\\site-packages (from jinja2->torch->openai-whisper==20250625) (2.1.3)\n",
      "Downloading tiktoken-0.9.0-cp312-cp312-win_amd64.whl (894 kB)\n",
      "   ---------------------------------------- 0.0/894.9 kB ? eta -:--:--\n",
      "   --------------------------------------- 894.9/894.9 kB 19.8 MB/s eta 0:00:00\n",
      "Downloading torch-2.7.1-cp312-cp312-win_amd64.whl (216.1 MB)\n",
      "   ---------------------------------------- 0.0/216.1 MB ? eta -:--:--\n",
      "   - -------------------------------------- 6.0/216.1 MB 30.8 MB/s eta 0:00:07\n",
      "   -- ------------------------------------- 11.3/216.1 MB 28.2 MB/s eta 0:00:08\n",
      "   -- ------------------------------------- 12.8/216.1 MB 20.7 MB/s eta 0:00:10\n",
      "   -- ------------------------------------- 13.4/216.1 MB 17.1 MB/s eta 0:00:12\n",
      "   -- ------------------------------------- 14.7/216.1 MB 14.2 MB/s eta 0:00:15\n",
      "   --- ------------------------------------ 16.3/216.1 MB 13.1 MB/s eta 0:00:16\n",
      "   --- ------------------------------------ 18.4/216.1 MB 12.7 MB/s eta 0:00:16\n",
      "   --- ------------------------------------ 21.0/216.1 MB 12.5 MB/s eta 0:00:16\n",
      "   ---- ----------------------------------- 23.6/216.1 MB 12.6 MB/s eta 0:00:16\n",
      "   ---- ----------------------------------- 27.0/216.1 MB 12.9 MB/s eta 0:00:15\n",
      "   ----- ---------------------------------- 30.7/216.1 MB 13.2 MB/s eta 0:00:15\n",
      "   ------ --------------------------------- 34.6/216.1 MB 13.7 MB/s eta 0:00:14\n",
      "   ------- -------------------------------- 38.3/216.1 MB 13.7 MB/s eta 0:00:13\n",
      "   ------- -------------------------------- 40.4/216.1 MB 13.7 MB/s eta 0:00:13\n",
      "   ------- -------------------------------- 42.5/216.1 MB 13.3 MB/s eta 0:00:14\n",
      "   -------- ------------------------------- 44.8/216.1 MB 13.1 MB/s eta 0:00:14\n",
      "   -------- ------------------------------- 47.7/216.1 MB 13.1 MB/s eta 0:00:13\n",
      "   --------- ------------------------------ 50.6/216.1 MB 13.3 MB/s eta 0:00:13\n",
      "   --------- ------------------------------ 53.0/216.1 MB 13.1 MB/s eta 0:00:13\n",
      "   ---------- ----------------------------- 55.3/216.1 MB 13.0 MB/s eta 0:00:13\n",
      "   ---------- ----------------------------- 57.9/216.1 MB 13.0 MB/s eta 0:00:13\n",
      "   ----------- ---------------------------- 60.8/216.1 MB 13.0 MB/s eta 0:00:12\n",
      "   ----------- ---------------------------- 64.0/216.1 MB 13.1 MB/s eta 0:00:12\n",
      "   ------------ --------------------------- 65.3/216.1 MB 12.8 MB/s eta 0:00:12\n",
      "   ------------ --------------------------- 67.9/216.1 MB 12.8 MB/s eta 0:00:12\n",
      "   ------------- -------------------------- 70.5/216.1 MB 12.8 MB/s eta 0:00:12\n",
      "   ------------- -------------------------- 73.4/216.1 MB 12.8 MB/s eta 0:00:12\n",
      "   -------------- ------------------------- 76.3/216.1 MB 12.8 MB/s eta 0:00:11\n",
      "   -------------- ------------------------- 78.9/216.1 MB 12.8 MB/s eta 0:00:11\n",
      "   --------------- ------------------------ 82.1/216.1 MB 12.9 MB/s eta 0:00:11\n",
      "   --------------- ------------------------ 84.4/216.1 MB 12.9 MB/s eta 0:00:11\n",
      "   --------------- ------------------------ 86.2/216.1 MB 12.7 MB/s eta 0:00:11\n",
      "   ---------------- ----------------------- 88.1/216.1 MB 12.6 MB/s eta 0:00:11\n",
      "   ---------------- ----------------------- 90.4/216.1 MB 12.6 MB/s eta 0:00:10\n",
      "   ----------------- ---------------------- 93.3/216.1 MB 12.6 MB/s eta 0:00:10\n",
      "   ----------------- ---------------------- 96.2/216.1 MB 12.7 MB/s eta 0:00:10\n",
      "   ------------------ --------------------- 99.6/216.1 MB 12.8 MB/s eta 0:00:10\n",
      "   ------------------ -------------------- 101.4/216.1 MB 12.7 MB/s eta 0:00:10\n",
      "   ------------------ -------------------- 103.5/216.1 MB 12.6 MB/s eta 0:00:09\n",
      "   ------------------- ------------------- 105.9/216.1 MB 12.6 MB/s eta 0:00:09\n",
      "   ------------------- ------------------- 109.1/216.1 MB 12.6 MB/s eta 0:00:09\n",
      "   -------------------- ------------------ 111.9/216.1 MB 12.6 MB/s eta 0:00:09\n",
      "   -------------------- ------------------ 114.6/216.1 MB 12.7 MB/s eta 0:00:09\n",
      "   -------------------- ------------------ 116.1/216.1 MB 12.5 MB/s eta 0:00:08\n",
      "   --------------------- ----------------- 118.8/216.1 MB 12.5 MB/s eta 0:00:08\n",
      "   --------------------- ----------------- 121.1/216.1 MB 12.5 MB/s eta 0:00:08\n",
      "   ---------------------- ---------------- 122.9/216.1 MB 12.4 MB/s eta 0:00:08\n",
      "   ---------------------- ---------------- 124.5/216.1 MB 12.3 MB/s eta 0:00:08\n",
      "   ---------------------- ---------------- 126.6/216.1 MB 12.3 MB/s eta 0:00:08\n",
      "   ----------------------- --------------- 129.0/216.1 MB 12.3 MB/s eta 0:00:08\n",
      "   ----------------------- --------------- 132.1/216.1 MB 12.3 MB/s eta 0:00:07\n",
      "   ------------------------ -------------- 135.5/216.1 MB 12.4 MB/s eta 0:00:07\n",
      "   ------------------------ -------------- 138.4/216.1 MB 12.5 MB/s eta 0:00:07\n",
      "   ------------------------- ------------- 140.2/216.1 MB 12.4 MB/s eta 0:00:07\n",
      "   ------------------------- ------------- 142.3/216.1 MB 12.3 MB/s eta 0:00:06\n",
      "   -------------------------- ------------ 144.7/216.1 MB 12.3 MB/s eta 0:00:06\n",
      "   -------------------------- ------------ 147.6/216.1 MB 12.4 MB/s eta 0:00:06\n",
      "   --------------------------- ----------- 150.5/216.1 MB 12.4 MB/s eta 0:00:06\n",
      "   --------------------------- ----------- 152.0/216.1 MB 12.3 MB/s eta 0:00:06\n",
      "   --------------------------- ----------- 154.1/216.1 MB 12.2 MB/s eta 0:00:06\n",
      "   ---------------------------- ---------- 156.5/216.1 MB 12.2 MB/s eta 0:00:05\n",
      "   ---------------------------- ---------- 159.4/216.1 MB 12.2 MB/s eta 0:00:05\n",
      "   ----------------------------- --------- 162.8/216.1 MB 12.3 MB/s eta 0:00:05\n",
      "   ------------------------------ -------- 166.5/216.1 MB 12.4 MB/s eta 0:00:05\n",
      "   ------------------------------ -------- 168.6/216.1 MB 12.3 MB/s eta 0:00:04\n",
      "   ------------------------------ -------- 170.7/216.1 MB 12.3 MB/s eta 0:00:04\n",
      "   ------------------------------- ------- 172.8/216.1 MB 12.3 MB/s eta 0:00:04\n",
      "   ------------------------------- ------- 174.6/216.1 MB 12.2 MB/s eta 0:00:04\n",
      "   ------------------------------- ------- 177.2/216.1 MB 12.2 MB/s eta 0:00:04\n",
      "   -------------------------------- ------ 179.8/216.1 MB 12.2 MB/s eta 0:00:03\n",
      "   --------------------------------- ----- 183.0/216.1 MB 12.2 MB/s eta 0:00:03\n",
      "   --------------------------------- ----- 185.6/216.1 MB 12.3 MB/s eta 0:00:03\n",
      "   --------------------------------- ----- 188.0/216.1 MB 12.2 MB/s eta 0:00:03\n",
      "   ---------------------------------- ---- 190.1/216.1 MB 12.2 MB/s eta 0:00:03\n",
      "   ---------------------------------- ---- 192.4/216.1 MB 12.2 MB/s eta 0:00:02\n",
      "   ----------------------------------- --- 195.0/216.1 MB 12.2 MB/s eta 0:00:02\n",
      "   ----------------------------------- --- 198.2/216.1 MB 12.2 MB/s eta 0:00:02\n",
      "   ------------------------------------ -- 201.6/216.1 MB 12.3 MB/s eta 0:00:02\n",
      "   ------------------------------------ -- 204.2/216.1 MB 12.3 MB/s eta 0:00:01\n",
      "   ------------------------------------- - 205.5/216.1 MB 12.2 MB/s eta 0:00:01\n",
      "   ------------------------------------- - 207.4/216.1 MB 12.2 MB/s eta 0:00:01\n",
      "   ------------------------------------- - 209.7/216.1 MB 12.2 MB/s eta 0:00:01\n",
      "   --------------------------------------  212.3/216.1 MB 12.2 MB/s eta 0:00:01\n",
      "   --------------------------------------  215.7/216.1 MB 12.2 MB/s eta 0:00:01\n",
      "   --------------------------------------  216.0/216.1 MB 12.2 MB/s eta 0:00:01\n",
      "   --------------------------------------  216.0/216.1 MB 12.2 MB/s eta 0:00:01\n",
      "   --------------------------------------  216.0/216.1 MB 12.2 MB/s eta 0:00:01\n",
      "   --------------------------------------- 216.1/216.1 MB 11.7 MB/s eta 0:00:00\n",
      "Downloading sympy-1.14.0-py3-none-any.whl (6.3 MB)\n",
      "   ---------------------------------------- 0.0/6.3 MB ? eta -:--:--\n",
      "   ------------------ --------------------- 2.9/6.3 MB 15.3 MB/s eta 0:00:01\n",
      "   ---------------------------------------  6.3/6.3 MB 16.8 MB/s eta 0:00:01\n",
      "   ---------------------------------------- 6.3/6.3 MB 14.9 MB/s eta 0:00:00\n",
      "Building wheels for collected packages: openai-whisper\n",
      "  Building wheel for openai-whisper (pyproject.toml): started\n",
      "  Building wheel for openai-whisper (pyproject.toml): finished with status 'done'\n",
      "  Created wheel for openai-whisper: filename=openai_whisper-20250625-py3-none-any.whl size=813318 sha256=89b8b49b1cbcde9aef0245748ac6dd78c4120c491abc3135dd7c8c3029669107\n",
      "  Stored in directory: C:\\Users\\Simar Kaur\\AppData\\Local\\Temp\\pip-ephem-wheel-cache-8tppmltd\\wheels\\c3\\03\\25\\5e0ba78bc27a3a089f137c9f1d92fdfce16d06996c071a016c\n",
      "Successfully built openai-whisper\n",
      "Installing collected packages: sympy, torch, tiktoken, openai-whisper\n",
      "  Attempting uninstall: sympy\n",
      "    Found existing installation: sympy 1.13.2\n",
      "    Uninstalling sympy-1.13.2:\n",
      "      Successfully uninstalled sympy-1.13.2\n",
      "Successfully installed openai-whisper-20250625 sympy-1.14.0 tiktoken-0.9.0 torch-2.7.1\n"
     ]
    },
    {
     "name": "stderr",
     "output_type": "stream",
     "text": [
      "  Running command git clone --filter=blob:none --quiet https://github.com/openai/whisper.git 'C:\\Users\\Simar Kaur\\AppData\\Local\\Temp\\pip-req-build-b3a448va'\n"
     ]
    }
   ],
   "source": [
    "!pip install git+https://github.com/openai/whisper.git\n"
   ]
  },
  {
   "cell_type": "code",
   "execution_count": 4,
   "id": "bec3238a",
   "metadata": {},
   "outputs": [
    {
     "name": "stdout",
     "output_type": "stream",
     "text": [
      "Requirement already satisfied: sounddevice in c:\\users\\simar kaur\\anaconda3\\lib\\site-packages (0.5.2)\n",
      "Requirement already satisfied: scipy in c:\\users\\simar kaur\\anaconda3\\lib\\site-packages (1.13.1)\n",
      "Requirement already satisfied: CFFI>=1.0 in c:\\users\\simar kaur\\anaconda3\\lib\\site-packages (from sounddevice) (1.17.1)\n",
      "Requirement already satisfied: numpy<2.3,>=1.22.4 in c:\\users\\simar kaur\\anaconda3\\lib\\site-packages (from scipy) (1.26.4)\n",
      "Requirement already satisfied: pycparser in c:\\users\\simar kaur\\anaconda3\\lib\\site-packages (from CFFI>=1.0->sounddevice) (2.21)\n",
      "Collecting pydub\n",
      "  Downloading pydub-0.25.1-py2.py3-none-any.whl.metadata (1.4 kB)\n",
      "Downloading pydub-0.25.1-py2.py3-none-any.whl (32 kB)\n",
      "Installing collected packages: pydub\n",
      "Successfully installed pydub-0.25.1\n"
     ]
    }
   ],
   "source": [
    "!pip install sounddevice scipy\n",
    "!pip install pydub\n"
   ]
  },
  {
   "cell_type": "code",
   "execution_count": 5,
   "id": "09c18fb5",
   "metadata": {},
   "outputs": [
    {
     "name": "stdout",
     "output_type": "stream",
     "text": [
      "Collecting ffmpeg\n",
      "  Downloading ffmpeg-1.4.tar.gz (5.1 kB)\n",
      "  Preparing metadata (setup.py): started\n",
      "  Preparing metadata (setup.py): finished with status 'done'\n",
      "Building wheels for collected packages: ffmpeg\n",
      "  Building wheel for ffmpeg (setup.py): started\n",
      "  Building wheel for ffmpeg (setup.py): finished with status 'done'\n",
      "  Created wheel for ffmpeg: filename=ffmpeg-1.4-py3-none-any.whl size=6089 sha256=19b1957f5626676883c3848e3596cbbae36fb8954483450011e6781e8293e51e\n",
      "  Stored in directory: c:\\users\\simar kaur\\appdata\\local\\pip\\cache\\wheels\\26\\21\\0c\\c26e09dff860a9071683e279445262346e008a9a1d2142c4ad\n",
      "Successfully built ffmpeg\n",
      "Installing collected packages: ffmpeg\n",
      "Successfully installed ffmpeg-1.4\n"
     ]
    }
   ],
   "source": [
    "!pip install ffmpeg\n"
   ]
  },
  {
   "cell_type": "code",
   "execution_count": 1,
   "id": "3f8e00fb",
   "metadata": {},
   "outputs": [
    {
     "data": {
      "text/plain": [
       "CompletedProcess(args=['ffmpeg', '-i', 'input.wav', 'output.mp3'], returncode=0)"
      ]
     },
     "execution_count": 1,
     "metadata": {},
     "output_type": "execute_result"
    }
   ],
   "source": [
    "import subprocess\n",
    "\n",
    "# Converts a sample WAV file to MP3 using ffmpeg\n",
    "input_file = \"input.wav\"\n",
    "output_file = \"output.mp3\"\n",
    "\n",
    "command = [\"ffmpeg\", \"-i\", input_file, output_file]\n",
    "\n",
    "subprocess.run(command)\n"
   ]
  },
  {
   "cell_type": "code",
   "execution_count": 2,
   "id": "a04121c0",
   "metadata": {},
   "outputs": [],
   "source": [
    "# 🛠 Step 1: Install Required Packages\n",
    "!pip install git+https://github.com/openai/whisper.git -q\n",
    "!pip install ffmpeg-python -q\n",
    "!pip install sounddevice -q\n",
    "!pip install scipy -q\n",
    "!pip install transformers -q\n",
    "!pip install torch -q\n"
   ]
  },
  {
   "cell_type": "code",
   "execution_count": 4,
   "id": "71ac9d43",
   "metadata": {},
   "outputs": [
    {
     "name": "stdout",
     "output_type": "stream",
     "text": [
      " Transcribed Text:\n",
      " \n"
     ]
    }
   ],
   "source": [
    "# 🧠 Step 3: Transcribe Audio to Text using Whisper\n",
    "import whisper\n",
    "\n",
    "# Load Whisper model (base/tiny/small/medium/large)\n",
    "model = whisper.load_model(\"base\")\n",
    "\n",
    "# Transcribe the audio\n",
    "result = model.transcribe(\"input.wav\")\n",
    "\n",
    "# Show the transcribed text\n",
    "text = result[\"text\"]\n",
    "print(\" Transcribed Text:\\n\", text)\n"
   ]
  },
  {
   "cell_type": "code",
   "execution_count": 5,
   "id": "e96383e1",
   "metadata": {},
   "outputs": [
    {
     "data": {
      "application/vnd.jupyter.widget-view+json": {
       "model_id": "1e261d7d4fba4835b266096e85176e2c",
       "version_major": 2,
       "version_minor": 0
      },
      "text/plain": [
       "config.json: 0.00B [00:00, ?B/s]"
      ]
     },
     "metadata": {},
     "output_type": "display_data"
    },
    {
     "name": "stderr",
     "output_type": "stream",
     "text": [
      "c:\\Users\\Simar Kaur\\anaconda3\\Lib\\site-packages\\huggingface_hub\\file_download.py:143: UserWarning: `huggingface_hub` cache-system uses symlinks by default to efficiently store duplicated files but your machine does not support them in C:\\Users\\Simar Kaur\\.cache\\huggingface\\hub\\models--j-hartmann--emotion-english-distilroberta-base. Caching files will still work but in a degraded version that might require more space on your disk. This warning can be disabled by setting the `HF_HUB_DISABLE_SYMLINKS_WARNING` environment variable. For more details, see https://huggingface.co/docs/huggingface_hub/how-to-cache#limitations.\n",
      "To support symlinks on Windows, you either need to activate Developer Mode or to run Python as an administrator. In order to activate developer mode, see this article: https://docs.microsoft.com/en-us/windows/apps/get-started/enable-your-device-for-development\n",
      "  warnings.warn(message)\n",
      "Xet Storage is enabled for this repo, but the 'hf_xet' package is not installed. Falling back to regular HTTP download. For better performance, install the package with: `pip install huggingface_hub[hf_xet]` or `pip install hf_xet`\n"
     ]
    },
    {
     "data": {
      "application/vnd.jupyter.widget-view+json": {
       "model_id": "8729b4d3996a4fdebde99da8630c7ccc",
       "version_major": 2,
       "version_minor": 0
      },
      "text/plain": [
       "pytorch_model.bin:   0%|          | 0.00/329M [00:00<?, ?B/s]"
      ]
     },
     "metadata": {},
     "output_type": "display_data"
    },
    {
     "data": {
      "application/vnd.jupyter.widget-view+json": {
       "model_id": "bb20811cc707437fa4a3cfe90d9f5567",
       "version_major": 2,
       "version_minor": 0
      },
      "text/plain": [
       "tokenizer_config.json:   0%|          | 0.00/294 [00:00<?, ?B/s]"
      ]
     },
     "metadata": {},
     "output_type": "display_data"
    },
    {
     "data": {
      "application/vnd.jupyter.widget-view+json": {
       "model_id": "681a4f632d3047ca902656786b2cbea9",
       "version_major": 2,
       "version_minor": 0
      },
      "text/plain": [
       "vocab.json: 0.00B [00:00, ?B/s]"
      ]
     },
     "metadata": {},
     "output_type": "display_data"
    },
    {
     "data": {
      "application/vnd.jupyter.widget-view+json": {
       "model_id": "e9a44ae690b84a52bc90ccfcb640bb3c",
       "version_major": 2,
       "version_minor": 0
      },
      "text/plain": [
       "merges.txt: 0.00B [00:00, ?B/s]"
      ]
     },
     "metadata": {},
     "output_type": "display_data"
    },
    {
     "data": {
      "application/vnd.jupyter.widget-view+json": {
       "model_id": "b7e690baea904cbb9d5e92f156e21f2e",
       "version_major": 2,
       "version_minor": 0
      },
      "text/plain": [
       "tokenizer.json: 0.00B [00:00, ?B/s]"
      ]
     },
     "metadata": {},
     "output_type": "display_data"
    },
    {
     "data": {
      "application/vnd.jupyter.widget-view+json": {
       "model_id": "fd9a2c1ce19c400eafa9805b0d9bee44",
       "version_major": 2,
       "version_minor": 0
      },
      "text/plain": [
       "special_tokens_map.json:   0%|          | 0.00/239 [00:00<?, ?B/s]"
      ]
     },
     "metadata": {},
     "output_type": "display_data"
    },
    {
     "name": "stderr",
     "output_type": "stream",
     "text": [
      "Xet Storage is enabled for this repo, but the 'hf_xet' package is not installed. Falling back to regular HTTP download. For better performance, install the package with: `pip install huggingface_hub[hf_xet]` or `pip install hf_xet`\n",
      "Device set to use cpu\n"
     ]
    },
    {
     "name": "stdout",
     "output_type": "stream",
     "text": [
      "💬 Emotion Scores:\n",
      "anger: 0.06\n",
      "disgust: 0.10\n",
      "fear: 0.05\n",
      "joy: 0.04\n",
      "neutral: 0.55\n",
      "sadness: 0.11\n",
      "surprise: 0.08\n"
     ]
    },
    {
     "name": "stderr",
     "output_type": "stream",
     "text": [
      "c:\\Users\\Simar Kaur\\anaconda3\\Lib\\site-packages\\transformers\\pipelines\\text_classification.py:106: UserWarning: `return_all_scores` is now deprecated,  if want a similar functionality use `top_k=None` instead of `return_all_scores=True` or `top_k=1` instead of `return_all_scores=False`.\n",
      "  warnings.warn(\n"
     ]
    },
    {
     "data": {
      "application/vnd.jupyter.widget-view+json": {
       "model_id": "4b6502ed01dc45d98686010e927dc21a",
       "version_major": 2,
       "version_minor": 0
      },
      "text/plain": [
       "model.safetensors:   0%|          | 0.00/329M [00:00<?, ?B/s]"
      ]
     },
     "metadata": {},
     "output_type": "display_data"
    }
   ],
   "source": [
    "# 🔍 Step 4: Emotion Detection from Text\n",
    "from transformers import pipeline\n",
    "\n",
    "# Load emotion classification pipeline\n",
    "emotion_classifier = pipeline(\n",
    "    \"text-classification\",\n",
    "    model=\"j-hartmann/emotion-english-distilroberta-base\",\n",
    "    return_all_scores=True\n",
    ")\n",
    "\n",
    "# Get emotion predictions\n",
    "emotion_scores = emotion_classifier(text)[0]\n",
    "\n",
    "# Display emotion scores\n",
    "print(\"💬 Emotion Scores:\")\n",
    "for emo in emotion_scores:\n",
    "    print(f\"{emo['label']}: {emo['score']:.2f}\")\n"
   ]
  },
  {
   "cell_type": "code",
   "execution_count": 6,
   "id": "b04b215f",
   "metadata": {},
   "outputs": [
    {
     "name": "stdout",
     "output_type": "stream",
     "text": [
      "\n",
      "🔵 Anxiety Score: 23/100\n"
     ]
    }
   ],
   "source": [
    "# 😰 Step 5: Simple Anxiety Score Calculator\n",
    "def calculate_anxiety(emotions):\n",
    "    anxiety_keywords = ['fear', 'sadness', 'anger']\n",
    "    score = 0\n",
    "    for emo in emotions:\n",
    "        if emo['label'].lower() in anxiety_keywords:\n",
    "            score += emo['score']\n",
    "    return min(round(score * 100), 100)\n",
    "\n",
    "anxiety_score = calculate_anxiety(emotion_scores)\n",
    "print(f\"\\n🔵 Anxiety Score: {anxiety_score}/100\")\n"
   ]
  },
  {
   "cell_type": "code",
   "execution_count": 8,
   "id": "d810f837",
   "metadata": {},
   "outputs": [
    {
     "name": "stdout",
     "output_type": "stream",
     "text": [
      "Requirement already satisfied: sounddevice in c:\\users\\simar kaur\\anaconda3\\lib\\site-packages (0.5.2)\n",
      "Requirement already satisfied: scipy in c:\\users\\simar kaur\\anaconda3\\lib\\site-packages (1.13.1)\n",
      "Requirement already satisfied: CFFI>=1.0 in c:\\users\\simar kaur\\anaconda3\\lib\\site-packages (from sounddevice) (1.17.1)\n",
      "Requirement already satisfied: numpy<2.3,>=1.22.4 in c:\\users\\simar kaur\\anaconda3\\lib\\site-packages (from scipy) (1.26.4)\n",
      "Requirement already satisfied: pycparser in c:\\users\\simar kaur\\anaconda3\\lib\\site-packages (from CFFI>=1.0->sounddevice) (2.21)\n"
     ]
    }
   ],
   "source": [
    "#day 02\n",
    "#build a gui to record audio\n",
    "!pip install sounddevice scipy\n"
   ]
  },
  {
   "cell_type": "code",
   "execution_count": null,
   "id": "35e43b03",
   "metadata": {},
   "outputs": [],
   "source": [
    "import tkinter as tk\n",
    "import sounddevice as sd\n",
    "from scipy.io.wavfile import write\n",
    "\n",
    "fs = 44100  # sample rate\n",
    "duration = 10  # seconds\n",
    "\n",
    "def record_audio():\n",
    "    status_label.config(text=\"Recording... Speak now 🎤\")\n",
    "    window.update()\n",
    "    recording = sd.rec(int(duration * fs), samplerate=fs, channels=2)\n",
    "    sd.wait()\n",
    "    write(\"input.wav\", fs, recording)\n",
    "    status_label.config(text=\"Recording complete \")\n",
    "\n",
    "window = tk.Tk()\n",
    "window.title(\"Voice Journal\")\n",
    "\n",
    "record_button = tk.Button(window, text=\"🎙 Record Entry\", command=record_audio, height=2, width=20, bg=\"#4CAF50\", fg=\"white\")\n",
    "record_button.pack(pady=20)\n",
    "\n",
    "status_label = tk.Label(window, text=\"Click the button to start recording.\")\n",
    "status_label.pack(pady=10)\n",
    "\n",
    "window.mainloop()\n"
   ]
  },
  {
   "cell_type": "code",
   "execution_count": 2,
   "id": "1741add0",
   "metadata": {},
   "outputs": [
    {
     "name": "stdout",
     "output_type": "stream",
     "text": [
      "Requirement already satisfied: matplotlib in c:\\users\\simar kaur\\anaconda3\\lib\\site-packages (3.9.2)\n",
      "Requirement already satisfied: contourpy>=1.0.1 in c:\\users\\simar kaur\\anaconda3\\lib\\site-packages (from matplotlib) (1.2.0)\n",
      "Requirement already satisfied: cycler>=0.10 in c:\\users\\simar kaur\\anaconda3\\lib\\site-packages (from matplotlib) (0.11.0)\n",
      "Requirement already satisfied: fonttools>=4.22.0 in c:\\users\\simar kaur\\anaconda3\\lib\\site-packages (from matplotlib) (4.51.0)\n",
      "Requirement already satisfied: kiwisolver>=1.3.1 in c:\\users\\simar kaur\\anaconda3\\lib\\site-packages (from matplotlib) (1.4.4)\n",
      "Requirement already satisfied: numpy>=1.23 in c:\\users\\simar kaur\\anaconda3\\lib\\site-packages (from matplotlib) (1.26.4)\n",
      "Requirement already satisfied: packaging>=20.0 in c:\\users\\simar kaur\\anaconda3\\lib\\site-packages (from matplotlib) (24.1)\n",
      "Requirement already satisfied: pillow>=8 in c:\\users\\simar kaur\\anaconda3\\lib\\site-packages (from matplotlib) (10.4.0)\n",
      "Requirement already satisfied: pyparsing>=2.3.1 in c:\\users\\simar kaur\\anaconda3\\lib\\site-packages (from matplotlib) (3.1.2)\n",
      "Requirement already satisfied: python-dateutil>=2.7 in c:\\users\\simar kaur\\anaconda3\\lib\\site-packages (from matplotlib) (2.9.0.post0)\n",
      "Requirement already satisfied: six>=1.5 in c:\\users\\simar kaur\\anaconda3\\lib\\site-packages (from python-dateutil>=2.7->matplotlib) (1.16.0)\n"
     ]
    }
   ],
   "source": [
    "!pip install matplotlib\n",
    "\n"
   ]
  },
  {
   "cell_type": "code",
   "execution_count": 4,
   "id": "4e3f2ebf",
   "metadata": {},
   "outputs": [
    {
     "data": {
      "image/png": "[encoded data removed]",
      "text/plain": [
       "<Figure size 800x500 with 1 Axes>"
      ]
     },
     "metadata": {},
     "output_type": "display_data"
    }
   ],
   "source": [
    "import matplotlib.pyplot as plt\n",
    "\n",
    "# Define emotion_scores\n",
    "emotion_scores = [\n",
    "    {'label': 'Happy', 'score': 0.8},\n",
    "    {'label': 'Sad', 'score': 0.4},\n",
    "    {'label': 'Angry', 'score': 0.2},\n",
    "    {'label': 'Excited', 'score': 0.7}\n",
    "]\n",
    "\n",
    "# Prepare emotion data\n",
    "labels = [emo['label'] for emo in emotion_scores]\n",
    "scores = [emo['score'] for emo in emotion_scores]\n",
    "\n",
    "# Plot the bar chart\n",
    "plt.figure(figsize=(8, 5))\n",
    "plt.bar(labels, scores, color='skyblue')\n",
    "plt.title('Emotion Scores from Today\\'s Journal')\n",
    "plt.xlabel('Emotion')\n",
    "plt.ylabel('Confidence Score')\n",
    "plt.ylim(0, 1)\n",
    "plt.grid(axis='y')\n",
    "plt.show()\n"
   ]
  },
  {
   "cell_type": "code",
   "execution_count": null,
   "id": "cbbd4e0f",
   "metadata": {},
   "outputs": [
    {
     "name": "stdout",
     "output_type": "stream",
     "text": [
      "🔔 Motivational Response:\n",
      " You're doing okay. Try journaling more regularly to reflect.\n"
     ]
    }
   ],
   "source": [
    "# Define the anxiety_score\n",
    "anxiety_score = 65  # You can set this to any numeric value based on your context\n",
    "\n",
    "# Function to generate motivational message\n",
    "def get_motivation(score):\n",
    "    if score > 70:\n",
    "        return \"You seem stressed. Take a deep breath. You're not alone.\"\n",
    "    elif score > 40:\n",
    "        return \"You're doing okay. Try journaling more regularly to reflect.\"\n",
    "    else:\n",
    "        return \"Great job today! Stay consistent and kind to yourself.\"\n",
    "\n",
    "# Get the message\n",
    "message = get_motivation(anxiety_score)\n",
    "print(\"🔔 Motivational Response:\\n\", message)\n"
   ]
  },
  {
   "cell_type": "code",
   "execution_count": 7,
   "id": "cc0d44ef",
   "metadata": {},
   "outputs": [],
   "source": [
    "#Integration and Demo Preparation\n",
    "!pip install git+https://github.com/openai/whisper.git -q\n",
    "!pip install sounddevice scipy ffmpeg-python -q\n",
    "!pip install transformers torch matplotlib -q\n"
   ]
  },
  {
   "cell_type": "code",
   "execution_count": 8,
   "id": "e1bd3478",
   "metadata": {},
   "outputs": [
    {
     "name": "stdout",
     "output_type": "stream",
     "text": [
      "🎙️ Recording for 10 seconds... Speak now!\n",
      "✅ Recording saved as input.wav\n"
     ]
    }
   ],
   "source": [
    "import sounddevice as sd\n",
    "from scipy.io.wavfile import write\n",
    "\n",
    "fs = 44100  # Sample rate\n",
    "duration = 10  # seconds\n",
    "\n",
    "print(\"🎙️ Recording for 10 seconds... Speak now!\")\n",
    "recording = sd.rec(int(duration * fs), samplerate=fs, channels=2)\n",
    "sd.wait()\n",
    "write(\"input.wav\", fs, recording)\n",
    "print(\"✅ Recording saved as input.wav\")\n"
   ]
  },
  {
   "cell_type": "code",
   "execution_count": 9,
   "id": "590f6eb7",
   "metadata": {},
   "outputs": [
    {
     "name": "stderr",
     "output_type": "stream",
     "text": [
      "c:\\Users\\Simar Kaur\\anaconda3\\Lib\\site-packages\\whisper\\transcribe.py:132: UserWarning: FP16 is not supported on CPU; using FP32 instead\n",
      "  warnings.warn(\"FP16 is not supported on CPU; using FP32 instead\")\n"
     ]
    },
    {
     "name": "stdout",
     "output_type": "stream",
     "text": [
      "📝 Transcription:\n",
      "  qué una defensa de將uitos\n"
     ]
    }
   ],
   "source": [
    "import whisper\n",
    "\n",
    "model = whisper.load_model(\"base\")\n",
    "result = model.transcribe(\"input.wav\")\n",
    "\n",
    "text = result[\"text\"]\n",
    "print(\" Transcription:\\n\", text)\n"
   ]
  },
  {
   "cell_type": "code",
   "execution_count": 10,
   "id": "f33d4fd2",
   "metadata": {},
   "outputs": [
    {
     "name": "stderr",
     "output_type": "stream",
     "text": [
      "Device set to use cpu\n"
     ]
    },
    {
     "name": "stdout",
     "output_type": "stream",
     "text": [
      "\n",
      "💬 Emotion Scores:\n",
      "anger: 0.36\n",
      "disgust: 0.43\n",
      "fear: 0.04\n",
      "joy: 0.01\n",
      "neutral: 0.10\n",
      "sadness: 0.03\n",
      "surprise: 0.02\n"
     ]
    },
    {
     "name": "stderr",
     "output_type": "stream",
     "text": [
      "c:\\Users\\Simar Kaur\\anaconda3\\Lib\\site-packages\\transformers\\pipelines\\text_classification.py:106: UserWarning: `return_all_scores` is now deprecated,  if want a similar functionality use `top_k=None` instead of `return_all_scores=True` or `top_k=1` instead of `return_all_scores=False`.\n",
      "  warnings.warn(\n"
     ]
    }
   ],
   "source": [
    "from transformers import pipeline\n",
    "\n",
    "emotion_classifier = pipeline(\n",
    "    \"text-classification\", \n",
    "    model=\"j-hartmann/emotion-english-distilroberta-base\",\n",
    "    return_all_scores=True\n",
    ")\n",
    "\n",
    "emotion_scores = emotion_classifier(text)[0]\n",
    "\n",
    "print(\"\\n💬 Emotion Scores:\")\n",
    "for emo in emotion_scores:\n",
    "    print(f\"{emo['label']}: {emo['score']:.2f}\")\n"
   ]
  },
  {
   "cell_type": "code",
   "execution_count": 11,
   "id": "59955f90",
   "metadata": {},
   "outputs": [
    {
     "name": "stderr",
     "output_type": "stream",
     "text": [
      "c:\\Users\\Simar Kaur\\anaconda3\\Lib\\site-packages\\IPython\\core\\pylabtools.py:170: UserWarning: Glyph 129504 (\\N{BRAIN}) missing from font(s) DejaVu Sans.\n",
      "  fig.canvas.print_figure(bytes_io, **kw)\n"
     ]
    },
    {
     "data": {
      "image/png": "[encoded data removed]",
      "text/plain": [
       "<Figure size 800x500 with 1 Axes>"
      ]
     },
     "metadata": {},
     "output_type": "display_data"
    }
   ],
   "source": [
    "import matplotlib.pyplot as plt\n",
    "\n",
    "labels = [e['label'] for e in emotion_scores]\n",
    "scores = [e['score'] for e in emotion_scores]\n",
    "\n",
    "plt.figure(figsize=(8,5))\n",
    "plt.bar(labels, scores, color='skyblue')\n",
    "plt.title('🧠 Emotion Trend from Today\\'s Entry')\n",
    "plt.xlabel('Emotion')\n",
    "plt.ylabel('Confidence Score')\n",
    "plt.ylim(0, 1)\n",
    "plt.grid(axis='y')\n",
    "plt.show()\n"
   ]
  },
  {
   "cell_type": "code",
   "execution_count": 12,
   "id": "60ea2b50",
   "metadata": {},
   "outputs": [
    {
     "name": "stdout",
     "output_type": "stream",
     "text": [
      "\n",
      "🔵 Anxiety Score: 43/100\n"
     ]
    }
   ],
   "source": [
    "def calculate_anxiety(emotions):\n",
    "    anxiety_labels = ['fear', 'sadness', 'anger']\n",
    "    score = sum(e['score'] for e in emotions if e['label'].lower() in anxiety_labels)\n",
    "    return min(round(score * 100), 100)\n",
    "\n",
    "anxiety_score = calculate_anxiety(emotion_scores)\n",
    "print(f\"\\n🔵 Anxiety Score: {anxiety_score}/100\")\n"
   ]
  },
  {
   "cell_type": "code",
   "execution_count": 13,
   "id": "46f41845",
   "metadata": {},
   "outputs": [
    {
     "name": "stdout",
     "output_type": "stream",
     "text": [
      "\n",
      "💬 Motivational Message:\n",
      "🌈 You’re doing okay. Try to reflect or go for a walk.\n"
     ]
    }
   ],
   "source": [
    "def get_motivation(score):\n",
    "    if score > 70:\n",
    "        return \"❤️ You seem stressed. Take a deep breath. You're not alone.\"\n",
    "    elif score > 40:\n",
    "        return \"🌈 You’re doing okay. Try to reflect or go for a walk.\"\n",
    "    else:\n",
    "        return \"✨ You're doing great! Keep going, one step at a time.\"\n",
    "\n",
    "message = get_motivation(anxiety_score)\n",
    "print(\"\\n💬 Motivational Message:\")\n",
    "print(message)\n"
   ]
  },
  {
   "cell_type": "code",
   "execution_count": 15,
   "id": "27c13e8c",
   "metadata": {},
   "outputs": [
    {
     "ename": "SyntaxError",
     "evalue": "unterminated string literal (detected at line 14) (1502694728.py, line 14)",
     "output_type": "error",
     "traceback": [
      "\u001b[1;36m  Cell \u001b[1;32mIn[15], line 14\u001b[1;36m\u001b[0m\n\u001b[1;33m    You seem stressed. Take a deep breath. You're not alone.\u001b[0m\n\u001b[1;37m                                              ^\u001b[0m\n\u001b[1;31mSyntaxError\u001b[0m\u001b[1;31m:\u001b[0m unterminated string literal (detected at line 14)\n"
     ]
    }
   ],
   "source": [
    " Transcription:\n",
    "\"I’m really anxious about my exams, I couldn’t sleep properly.\"\n",
    "\n",
    " Emotion Scores:\n",
    "sadness: 0.64\n",
    "fear: 0.22\n",
    "joy: 0.05\n",
    "anger: 0.07\n",
    "...\n",
    "\n",
    " Anxiety Score: 93/100\n",
    "\n",
    " Motivational Message:\n",
    " You seem stressed. Take a deep breath. You're not alone.\n"
   ]
  },
  {
   "cell_type": "code",
   "execution_count": null,
   "id": "50280b24",
   "metadata": {},
   "outputs": [],
   "source": []
  }
 ],
 "metadata": {
  "kernelspec": {
   "display_name": "base",
   "language": "python",
   "name": "python3"
  },
  "language_info": {
   "codemirror_mode": {
    "name": "ipython",
    "version": 3
   },
   "file_extension": ".py",
   "mimetype": "text/x-python",
   "name": "python",
   "nbconvert_exporter": "python",
   "pygments_lexer": "ipython3",
   "version": "3.12.7"
  }
 },
 "nbformat": 4,
 "nbformat_minor": 5
}
